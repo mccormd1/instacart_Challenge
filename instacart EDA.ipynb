{
 "cells": [
  {
   "cell_type": "markdown",
   "metadata": {},
   "source": [
    "# Instacart Exploratory Data Analysis\n",
    "Instacart data is described as such on their blog post at https://tech.instacart.com/3-million-instacart-orders-open-sourced-d40d29ead6f2. \"This anonymized dataset contains a sample of over 3 million grocery orders from more than 200,000 Instacart users.\n",
    "For each user, we provide between 4 and 100 of their orders, with the sequence of products purchased in each order. We also provide the week and hour of day the order was placed, and a relative measure of time between orders.\"\n",
    "\n",
    "In this notebook I'll attempt to explore the dataset, and recreate a few of the visualizations they have included in the blog post.\n",
    "\n",
    "I've imported the tables into SQLite separately from this notebook for practice with SQL, using csvtosqlite.py. GUI importing was suboptimal as it's not obvious how to set column type appropriately. Data would import as all text, which is annoying and inefficient."
   ]
  },
  {
   "cell_type": "markdown",
   "metadata": {},
   "source": [
    "## Connect to SQLite database"
   ]
  },
  {
   "cell_type": "code",
   "execution_count": 1,
   "metadata": {
    "collapsed": true
   },
   "outputs": [],
   "source": [
    "import sqlite3\n",
    "conn = sqlite3.connect('instacart2.sqlite')\n",
    "c = conn.cursor()"
   ]
  },
  {
   "cell_type": "markdown",
   "metadata": {},
   "source": [
    "Some database probing to make sure things look good"
   ]
  },
  {
   "cell_type": "code",
   "execution_count": 2,
   "metadata": {
    "collapsed": false
   },
   "outputs": [
    {
     "data": {
      "text/html": [
       "<div>\n",
       "<table border=\"1\" class=\"dataframe\">\n",
       "  <thead>\n",
       "    <tr style=\"text-align: right;\">\n",
       "      <th></th>\n",
       "      <th>reordered</th>\n",
       "      <th>product_name</th>\n",
       "      <th>aisle</th>\n",
       "    </tr>\n",
       "  </thead>\n",
       "  <tbody>\n",
       "    <tr>\n",
       "      <th>0</th>\n",
       "      <td>1</td>\n",
       "      <td>Organic Egg Whites</td>\n",
       "      <td>eggs</td>\n",
       "    </tr>\n",
       "    <tr>\n",
       "      <th>1</th>\n",
       "      <td>1</td>\n",
       "      <td>Michigan Organic Kale</td>\n",
       "      <td>fresh vegetables</td>\n",
       "    </tr>\n",
       "    <tr>\n",
       "      <th>2</th>\n",
       "      <td>1</td>\n",
       "      <td>Coconut Butter</td>\n",
       "      <td>oils vinegars</td>\n",
       "    </tr>\n",
       "    <tr>\n",
       "      <th>3</th>\n",
       "      <td>1</td>\n",
       "      <td>Carrots</td>\n",
       "      <td>fresh vegetables</td>\n",
       "    </tr>\n",
       "    <tr>\n",
       "      <th>4</th>\n",
       "      <td>1</td>\n",
       "      <td>Original Unflavored Gelatine Mix</td>\n",
       "      <td>doughs gelatins bake mixes</td>\n",
       "    </tr>\n",
       "    <tr>\n",
       "      <th>5</th>\n",
       "      <td>1</td>\n",
       "      <td>All Natural No Stir Creamy Almond Butter</td>\n",
       "      <td>spreads</td>\n",
       "    </tr>\n",
       "    <tr>\n",
       "      <th>6</th>\n",
       "      <td>1</td>\n",
       "      <td>Total 2% with Strawberry Lowfat Greek Strained...</td>\n",
       "      <td>yogurt</td>\n",
       "    </tr>\n",
       "    <tr>\n",
       "      <th>7</th>\n",
       "      <td>1</td>\n",
       "      <td>Unsweetened Almondmilk</td>\n",
       "      <td>soy lactosefree</td>\n",
       "    </tr>\n",
       "    <tr>\n",
       "      <th>8</th>\n",
       "      <td>1</td>\n",
       "      <td>Lemons</td>\n",
       "      <td>packaged vegetables fruits</td>\n",
       "    </tr>\n",
       "    <tr>\n",
       "      <th>9</th>\n",
       "      <td>1</td>\n",
       "      <td>Organic Baby Spinach</td>\n",
       "      <td>packaged vegetables fruits</td>\n",
       "    </tr>\n",
       "  </tbody>\n",
       "</table>\n",
       "</div>"
      ],
      "text/plain": [
       "   reordered                                       product_name  \\\n",
       "0          1                                 Organic Egg Whites   \n",
       "1          1                              Michigan Organic Kale   \n",
       "2          1                                     Coconut Butter   \n",
       "3          1                                            Carrots   \n",
       "4          1                   Original Unflavored Gelatine Mix   \n",
       "5          1           All Natural No Stir Creamy Almond Butter   \n",
       "6          1  Total 2% with Strawberry Lowfat Greek Strained...   \n",
       "7          1                             Unsweetened Almondmilk   \n",
       "8          1                                             Lemons   \n",
       "9          1                               Organic Baby Spinach   \n",
       "\n",
       "                        aisle  \n",
       "0                        eggs  \n",
       "1            fresh vegetables  \n",
       "2               oils vinegars  \n",
       "3            fresh vegetables  \n",
       "4  doughs gelatins bake mixes  \n",
       "5                     spreads  \n",
       "6                      yogurt  \n",
       "7             soy lactosefree  \n",
       "8  packaged vegetables fruits  \n",
       "9  packaged vegetables fruits  "
      ]
     },
     "execution_count": 2,
     "metadata": {},
     "output_type": "execute_result"
    }
   ],
   "source": [
    "import pandas as pd\n",
    "import numpy as np\n",
    "import seaborn as sns\n",
    "# c.execute('''SELECT * FROM departments LIMIT 10''')\n",
    "# pd.read_sql('''SELECT * FROM departments LIMIT 10''',conn)\n",
    "pd.read_sql('''\n",
    "SELECT opp.reordered, p.product_name, a.aisle\n",
    "FROM order_products__prior AS opp LEFT JOIN \n",
    "(products AS p LEFT JOIN aisles AS a ON p.aisle_id=a.aisle_id) \n",
    "ON opp.product_id=p.product_id\n",
    "WHERE opp.reordered==1\n",
    "LIMIT 10''',conn)"
   ]
  },
  {
   "cell_type": "markdown",
   "metadata": {},
   "source": [
    "see how much of the orders are prior, test, and train. The prior set is for training, train set for validation, and the test set is for submission to kaggle. "
   ]
  },
  {
   "cell_type": "code",
   "execution_count": 14,
   "metadata": {
    "collapsed": false
   },
   "outputs": [
    {
     "data": {
      "text/html": [
       "<div>\n",
       "<table border=\"1\" class=\"dataframe\">\n",
       "  <thead>\n",
       "    <tr style=\"text-align: right;\">\n",
       "      <th></th>\n",
       "      <th>count(order_id)</th>\n",
       "      <th>eval_set</th>\n",
       "    </tr>\n",
       "  </thead>\n",
       "  <tbody>\n",
       "    <tr>\n",
       "      <th>0</th>\n",
       "      <td>3214874</td>\n",
       "      <td>prior</td>\n",
       "    </tr>\n",
       "    <tr>\n",
       "      <th>1</th>\n",
       "      <td>75000</td>\n",
       "      <td>test</td>\n",
       "    </tr>\n",
       "    <tr>\n",
       "      <th>2</th>\n",
       "      <td>131209</td>\n",
       "      <td>train</td>\n",
       "    </tr>\n",
       "  </tbody>\n",
       "</table>\n",
       "</div>"
      ],
      "text/plain": [
       "   count(order_id) eval_set\n",
       "0          3214874    prior\n",
       "1            75000     test\n",
       "2           131209    train"
      ]
     },
     "execution_count": 14,
     "metadata": {},
     "output_type": "execute_result"
    }
   ],
   "source": [
    "pd.read_sql('''\n",
    "SELECT count(order_id), eval_set\n",
    "FROM orders\n",
    "GROUP BY eval_set\n",
    "''',conn)"
   ]
  },
  {
   "cell_type": "markdown",
   "metadata": {},
   "source": [
    "## Recreate blog table of user 1's first two orders"
   ]
  },
  {
   "cell_type": "code",
   "execution_count": 4,
   "metadata": {
    "collapsed": false
   },
   "outputs": [
    {
     "data": {
      "text/html": [
       "<div>\n",
       "<table border=\"1\" class=\"dataframe\">\n",
       "  <thead>\n",
       "    <tr style=\"text-align: right;\">\n",
       "      <th></th>\n",
       "      <th>id</th>\n",
       "      <th>order_id</th>\n",
       "      <th>order_no</th>\n",
       "      <th>dow</th>\n",
       "      <th>hod</th>\n",
       "      <th>add_order</th>\n",
       "      <th>p_id</th>\n",
       "      <th>product_name</th>\n",
       "    </tr>\n",
       "  </thead>\n",
       "  <tbody>\n",
       "    <tr>\n",
       "      <th>0</th>\n",
       "      <td>1</td>\n",
       "      <td>2539329</td>\n",
       "      <td>1</td>\n",
       "      <td>2</td>\n",
       "      <td>8</td>\n",
       "      <td>1</td>\n",
       "      <td>196</td>\n",
       "      <td>Soda</td>\n",
       "    </tr>\n",
       "    <tr>\n",
       "      <th>1</th>\n",
       "      <td>1</td>\n",
       "      <td>2539329</td>\n",
       "      <td>1</td>\n",
       "      <td>2</td>\n",
       "      <td>8</td>\n",
       "      <td>2</td>\n",
       "      <td>14084</td>\n",
       "      <td>Organic Unsweetened Vanilla Almond Milk</td>\n",
       "    </tr>\n",
       "    <tr>\n",
       "      <th>2</th>\n",
       "      <td>1</td>\n",
       "      <td>2539329</td>\n",
       "      <td>1</td>\n",
       "      <td>2</td>\n",
       "      <td>8</td>\n",
       "      <td>3</td>\n",
       "      <td>12427</td>\n",
       "      <td>Original Beef Jerky</td>\n",
       "    </tr>\n",
       "    <tr>\n",
       "      <th>3</th>\n",
       "      <td>1</td>\n",
       "      <td>2539329</td>\n",
       "      <td>1</td>\n",
       "      <td>2</td>\n",
       "      <td>8</td>\n",
       "      <td>4</td>\n",
       "      <td>26088</td>\n",
       "      <td>Aged White Cheddar Popcorn</td>\n",
       "    </tr>\n",
       "    <tr>\n",
       "      <th>4</th>\n",
       "      <td>1</td>\n",
       "      <td>2539329</td>\n",
       "      <td>1</td>\n",
       "      <td>2</td>\n",
       "      <td>8</td>\n",
       "      <td>5</td>\n",
       "      <td>26405</td>\n",
       "      <td>XL Pick-A-Size Paper Towel Rolls</td>\n",
       "    </tr>\n",
       "    <tr>\n",
       "      <th>5</th>\n",
       "      <td>1</td>\n",
       "      <td>2398795</td>\n",
       "      <td>2</td>\n",
       "      <td>3</td>\n",
       "      <td>7</td>\n",
       "      <td>1</td>\n",
       "      <td>196</td>\n",
       "      <td>Soda</td>\n",
       "    </tr>\n",
       "    <tr>\n",
       "      <th>6</th>\n",
       "      <td>1</td>\n",
       "      <td>2398795</td>\n",
       "      <td>2</td>\n",
       "      <td>3</td>\n",
       "      <td>7</td>\n",
       "      <td>2</td>\n",
       "      <td>10258</td>\n",
       "      <td>Pistachios</td>\n",
       "    </tr>\n",
       "    <tr>\n",
       "      <th>7</th>\n",
       "      <td>1</td>\n",
       "      <td>2398795</td>\n",
       "      <td>2</td>\n",
       "      <td>3</td>\n",
       "      <td>7</td>\n",
       "      <td>3</td>\n",
       "      <td>12427</td>\n",
       "      <td>Original Beef Jerky</td>\n",
       "    </tr>\n",
       "    <tr>\n",
       "      <th>8</th>\n",
       "      <td>1</td>\n",
       "      <td>2398795</td>\n",
       "      <td>2</td>\n",
       "      <td>3</td>\n",
       "      <td>7</td>\n",
       "      <td>4</td>\n",
       "      <td>13176</td>\n",
       "      <td>Bag of Organic Bananas</td>\n",
       "    </tr>\n",
       "    <tr>\n",
       "      <th>9</th>\n",
       "      <td>1</td>\n",
       "      <td>2398795</td>\n",
       "      <td>2</td>\n",
       "      <td>3</td>\n",
       "      <td>7</td>\n",
       "      <td>5</td>\n",
       "      <td>26088</td>\n",
       "      <td>Aged White Cheddar Popcorn</td>\n",
       "    </tr>\n",
       "    <tr>\n",
       "      <th>10</th>\n",
       "      <td>1</td>\n",
       "      <td>2398795</td>\n",
       "      <td>2</td>\n",
       "      <td>3</td>\n",
       "      <td>7</td>\n",
       "      <td>6</td>\n",
       "      <td>13032</td>\n",
       "      <td>Cinnamon Toast Crunch</td>\n",
       "    </tr>\n",
       "  </tbody>\n",
       "</table>\n",
       "</div>"
      ],
      "text/plain": [
       "    id  order_id  order_no  dow  hod  add_order   p_id  \\\n",
       "0    1   2539329         1    2    8          1    196   \n",
       "1    1   2539329         1    2    8          2  14084   \n",
       "2    1   2539329         1    2    8          3  12427   \n",
       "3    1   2539329         1    2    8          4  26088   \n",
       "4    1   2539329         1    2    8          5  26405   \n",
       "5    1   2398795         2    3    7          1    196   \n",
       "6    1   2398795         2    3    7          2  10258   \n",
       "7    1   2398795         2    3    7          3  12427   \n",
       "8    1   2398795         2    3    7          4  13176   \n",
       "9    1   2398795         2    3    7          5  26088   \n",
       "10   1   2398795         2    3    7          6  13032   \n",
       "\n",
       "                               product_name  \n",
       "0                                      Soda  \n",
       "1   Organic Unsweetened Vanilla Almond Milk  \n",
       "2                       Original Beef Jerky  \n",
       "3                Aged White Cheddar Popcorn  \n",
       "4          XL Pick-A-Size Paper Towel Rolls  \n",
       "5                                      Soda  \n",
       "6                                Pistachios  \n",
       "7                       Original Beef Jerky  \n",
       "8                    Bag of Organic Bananas  \n",
       "9                Aged White Cheddar Popcorn  \n",
       "10                    Cinnamon Toast Crunch  "
      ]
     },
     "execution_count": 4,
     "metadata": {},
     "output_type": "execute_result"
    }
   ],
   "source": [
    "pd.read_sql('''\n",
    "SELECT op.user_id AS id, op.order_id AS order_id, op.order_number AS order_no, op.order_dow AS dow, \n",
    "op.order_hour_of_day AS hod, op.add_to_cart_order As add_order, op.product_id AS p_id, p.product_name AS product_name\n",
    "FROM (\n",
    "    SELECT o.user_id, o.order_id, o.order_number, o.order_dow, \n",
    "    o.order_hour_of_day,opp.add_to_cart_order, opp.product_id\n",
    "    FROM orders AS o LEFT JOIN order_products__prior AS opp ON o.order_id=opp.order_id\n",
    "    WHERE user_id == 1 AND order_number IN(1,2)) AS op\n",
    "LEFT JOIN products AS p ON op.product_id=p.product_id\n",
    "ORDER BY op.order_number ASC, op.add_to_cart_order ASC;\n",
    "''',conn)"
   ]
  },
  {
   "cell_type": "markdown",
   "metadata": {
    "collapsed": true
   },
   "source": [
    "## Create plot showing percent reorder vs number of purchase for each aisle colored by department"
   ]
  },
  {
   "cell_type": "code",
   "execution_count": 76,
   "metadata": {
    "collapsed": false
   },
   "outputs": [],
   "source": [
    "#first get the correct data\n",
    "reorderaisle=pd.read_sql('''\n",
    "SELECT d.department, a.aisle, op.num_purch, (op.num_purch*1.0)/(op.count_purch) AS percent_purch \n",
    "FROM ((\n",
    "SELECT sum(opp.reordered) AS num_purch, count(opp.reordered) AS count_purch, p.product_id, p.aisle_id, p.department_id\n",
    "FROM order_products__prior AS opp LEFT JOIN products AS p ON opp.product_id=p.product_id\n",
    "GROUP BY p.aisle_id)AS op LEFT JOIN aisles AS a ON a.aisle_id=op.aisle_id)\n",
    "LEFT JOIN departments AS d ON d.department_id=op.department_id\n",
    "GROUP BY a.aisle\n",
    "\n",
    "\n",
    "''',conn)"
   ]
  },
  {
   "cell_type": "code",
   "execution_count": 117,
   "metadata": {
    "collapsed": false
   },
   "outputs": [
    {
     "data": {
      "image/png": "[encoded data removed]",
      "text/plain": [
       "<matplotlib.figure.Figure at 0x10fbbca58>"
      ]
     },
     "metadata": {},
     "output_type": "display_data"
    }
   ],
   "source": [
    "%matplotlib inline\n",
    "import matplotlib.pyplot as plt\n",
    "import seaborn as sns\n",
    "\n",
    "aisleplot=sns.lmplot('num_purch','percent_purch',data=reorderaisle,hue='department', fit_reg=False)\n",
    "aisleplot.set(xscale='log')\n",
    "\n",
    "reorderaisle.to_csv('reorderaisle.csv')\n"
   ]
  },
  {
   "cell_type": "markdown",
   "metadata": {},
   "source": [
    "Note that perishables tend to be both purchased and repurchased more than non-perishables."
   ]
  },
  {
   "cell_type": "markdown",
   "metadata": {},
   "source": [
    "## Recreate time of day graph"
   ]
  },
  {
   "cell_type": "code",
   "execution_count": 132,
   "metadata": {
    "collapsed": false
   },
   "outputs": [],
   "source": [
    "#First get correct data\n",
    "todorder=pd.read_sql('''\n",
    "SELECT p.product_name,op.order_hour_of_day, op.COUNT\n",
    "FROM (\n",
    "    SELECT opp.product_id, o.order_id, o.order_hour_of_day, count(o.order_id) AS COUNT\n",
    "    FROM orders AS o LEFT JOIN order_products__prior AS opp ON o.order_id=opp.order_id\n",
    "    GROUP BY o.order_hour_of_day, opp.product_id) AS op \n",
    "LEFT JOIN products AS p ON op.product_id=p.product_id\n",
    "GROUP BY p.product_name, op.order_hour_of_day\n",
    "ORDER BY op.order_hour_of_day\n",
    "\n",
    "''',conn)"
   ]
  },
  {
   "cell_type": "code",
   "execution_count": 134,
   "metadata": {
    "collapsed": false
   },
   "outputs": [],
   "source": [
    "todorder\n",
    "todorder.to_csv('todorder.csv')"
   ]
  },
  {
   "cell_type": "code",
   "execution_count": 135,
   "metadata": {
    "collapsed": false
   },
   "outputs": [
    {
     "data": {
      "text/html": [
       "<div>\n",
       "<table border=\"1\" class=\"dataframe\">\n",
       "  <thead>\n",
       "    <tr style=\"text-align: right;\">\n",
       "      <th></th>\n",
       "      <th>product_id</th>\n",
       "      <th>product_name</th>\n",
       "    </tr>\n",
       "  </thead>\n",
       "  <tbody>\n",
       "    <tr>\n",
       "      <th>0</th>\n",
       "      <td>24852</td>\n",
       "      <td>Banana</td>\n",
       "    </tr>\n",
       "  </tbody>\n",
       "</table>\n",
       "</div>"
      ],
      "text/plain": [
       "   product_id product_name\n",
       "0       24852       Banana"
      ]
     },
     "execution_count": 135,
     "metadata": {},
     "output_type": "execute_result"
    }
   ],
   "source": [
    "#First get correct data\n",
    "pd.read_sql('''\n",
    "SELECT product_id, product_name\n",
    "FROM products\n",
    "WHERE product_name LIKE 'Banana'\n",
    "''',conn)"
   ]
  },
  {
   "cell_type": "code",
   "execution_count": null,
   "metadata": {
    "collapsed": false
   },
   "outputs": [],
   "source": []
  },
  {
   "cell_type": "code",
   "execution_count": null,
   "metadata": {
    "collapsed": true
   },
   "outputs": [],
   "source": []
  }
 ],
 "metadata": {
  "kernelspec": {
   "display_name": "Python 3",
   "language": "python",
   "name": "python3"
  },
  "language_info": {
   "codemirror_mode": {
    "name": "ipython",
    "version": 3
   },
   "file_extension": ".py",
   "mimetype": "text/x-python",
   "name": "python",
   "nbconvert_exporter": "python",
   "pygments_lexer": "ipython3",
   "version": "3.6.0"
  }
 },
 "nbformat": 4,
 "nbformat_minor": 2
}
