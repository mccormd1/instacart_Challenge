{
 "cells": [
  {
   "cell_type": "markdown",
   "metadata": {},
   "source": [
    "# Using Pandas instead of SQL to load and manipulate data\n",
    "\n",
    "Based on the kaggle kernels, it seems that pandas can just load in the data directy, it isn't a gigantic dataload."
   ]
  },
  {
   "cell_type": "code",
   "execution_count": 1,
   "metadata": {
    "collapsed": false
   },
   "outputs": [],
   "source": [
    "import pandas as pd\n",
    "import numpy as np\n",
    "import matplotlib.pyplot as plt\n",
    "import seaborn as sns\n",
    "from IPython.display import display\n",
    "%matplotlib inline\n",
    "plt.style.use('ggplot')\n",
    "\n",
    "orders = pd.read_csv('orders.csv', dtype={'order_id':'int32', \n",
    "                                                               'user_id':'int32',\n",
    "                                                               'eval_set':'category', \n",
    "                                                               'order_dow':'category',\n",
    "                                                               'order_number':'float32',\n",
    "                                                               'order_hour_of_day':'category', #could also be category\n",
    "                                                               'days_since_prior_order':'float32'})\n",
    "products = pd.read_csv('products.csv', dtype={'product_id':'int32', \n",
    "                                                                   'product_name':'object', \n",
    "                                                                   'aisle_id':'int16', \n",
    "                                                                   'department_id':'int16'})\n",
    "order_products_train = pd.read_csv('order_products__train.csv', dtype={'order_id':'int32',\n",
    "                                                                                     'product_id':'int32',\n",
    "                                                                                     'add_to_cart_order':'int8',\n",
    "                                                                                     'reordered':'uint8'})\n",
    "order_products_prior = pd.read_csv('order_products__prior.csv', dtype={'order_id':'int32',\n",
    "                                                                                     'product_id':'int32',\n",
    "                                                                                     'add_to_cart_order':'int8',\n",
    "                                                                                     'reordered':'uint8'})\n",
    "aisles = pd.read_csv('aisles.csv', dtype={'aisle_id':'int16', 'aisle':'category'})\n",
    "departments = pd.read_csv('departments.csv', dtype={'department_id':'int8', 'department':'category'})"
   ]
  },
  {
   "cell_type": "markdown",
   "metadata": {},
   "source": [
    "## Merge orders and products to create data sets"
   ]
  },
  {
   "cell_type": "code",
   "execution_count": 2,
   "metadata": {
    "collapsed": false
   },
   "outputs": [],
   "source": [
    "prior_order=order_products_prior.merge(orders,on='order_id')\n",
    "train_order=order_products_train.merge(orders,on='order_id')\n",
    "test_order=orders[orders.eval_set=='test']\n",
    "# prior_order=prior_order.merge(products,on='product_id')\n",
    "# train_order=train_order.merge(products,on='product_id')"
   ]
  },
  {
   "cell_type": "markdown",
   "metadata": {},
   "source": [
    "Split the data into features and labes"
   ]
  },
  {
   "cell_type": "code",
   "execution_count": 3,
   "metadata": {
    "collapsed": false
   },
   "outputs": [],
   "source": [
    "prior_order.replace([np.inf, -np.inf], np.nan)\n",
    "prior_order.dropna(axis=0,how='any',inplace=True)\n",
    "label=prior_order.reordered\n",
    "features=prior_order.drop(['reordered','eval_set'],axis=1)"
   ]
  },
  {
   "cell_type": "code",
   "execution_count": 4,
   "metadata": {
    "collapsed": false
   },
   "outputs": [
    {
     "data": {
      "text/plain": [
       "array(['order_id', 'product_id', 'add_to_cart_order', 'user_id',\n",
       "       'order_number', 'order_dow', 'order_hour_of_day',\n",
       "       'days_since_prior_order'], dtype=object)"
      ]
     },
     "execution_count": 4,
     "metadata": {},
     "output_type": "execute_result"
    }
   ],
   "source": [
    "features.columns.values"
   ]
  },
  {
   "cell_type": "code",
   "execution_count": 5,
   "metadata": {
    "collapsed": false
   },
   "outputs": [
    {
     "data": {
      "image/png": "[encoded data removed]",
      "text/plain": [
       "<matplotlib.figure.Figure at 0x1168cd898>"
      ]
     },
     "metadata": {},
     "output_type": "display_data"
    }
   ],
   "source": [
    "plt.hist(features.order_dow.astype('int8'),bins=np.arange(8))\n",
    "plt.show()"
   ]
  },
  {
   "cell_type": "code",
   "execution_count": 6,
   "metadata": {
    "collapsed": false
   },
   "outputs": [
    {
     "data": {
      "image/png": "[encoded data removed]",
      "text/plain": [
       "<matplotlib.figure.Figure at 0x1168cda20>"
      ]
     },
     "metadata": {},
     "output_type": "display_data"
    }
   ],
   "source": [
    "plt.hist(features.order_hour_of_day.astype('int8'),bins=np.arange(25))\n",
    "plt.show()"
   ]
  },
  {
   "cell_type": "code",
   "execution_count": 7,
   "metadata": {
    "collapsed": false
   },
   "outputs": [
    {
     "data": {
      "text/plain": [
       "<function matplotlib.pyplot.show>"
      ]
     },
     "execution_count": 7,
     "metadata": {},
     "output_type": "execute_result"
    },
    {
     "data": {
      "image/png": "[encoded data removed]",
      "text/plain": [
       "<matplotlib.figure.Figure at 0x106cea6a0>"
      ]
     },
     "metadata": {},
     "output_type": "display_data"
    }
   ],
   "source": [
    "plt.hist(features.days_since_prior_order.astype('int8'),bins=np.arange(31))\n",
    "plt.show"
   ]
  },
  {
   "cell_type": "code",
   "execution_count": 8,
   "metadata": {
    "collapsed": false
   },
   "outputs": [
    {
     "data": {
      "text/plain": [
       "<function matplotlib.pyplot.show>"
      ]
     },
     "execution_count": 8,
     "metadata": {},
     "output_type": "execute_result"
    },
    {
     "data": {
      "image/png": "[encoded data removed]",
      "text/plain": [
       "<matplotlib.figure.Figure at 0x116488ac8>"
      ]
     },
     "metadata": {},
     "output_type": "display_data"
    }
   ],
   "source": [
    "plt.hist(features.order_number,bins=101)\n",
    "plt.show"
   ]
  },
  {
   "cell_type": "markdown",
   "metadata": {},
   "source": [
    "Normalize data\n",
    "\n",
    "I figure that the days since last order and number of orders have a continous relational meaning (larger numbers mean something in relation to smaller numbers), they can be kept as continuous variables\n"
   ]
  },
  {
   "cell_type": "code",
   "execution_count": 9,
   "metadata": {
    "collapsed": false
   },
   "outputs": [],
   "source": [
    "# from sklearn.preprocessing import MinMaxScaler\n",
    "\n",
    "# # Initialize a scaler, then apply it to the features\n",
    "# scaler = MinMaxScaler()\n",
    "# numerical = ['order_dow','order_hour_of_day','days_since_prior_order','order_number']\n",
    "# features[numerical] = scaler.fit_transform(prior_order[numerical].dropna(how='any'))\n",
    "features.days_since_prior_order=np.divide(features.days_since_prior_order,30.0)\n",
    "features.order_number=np.divide(features.order_number,100.0)"
   ]
  },
  {
   "cell_type": "code",
   "execution_count": 10,
   "metadata": {
    "collapsed": false
   },
   "outputs": [
    {
     "data": {
      "text/plain": [
       "<function matplotlib.pyplot.show>"
      ]
     },
     "execution_count": 10,
     "metadata": {},
     "output_type": "execute_result"
    },
    {
     "data": {
      "image/png": "[encoded data removed]",
      "text/plain": [
       "<matplotlib.figure.Figure at 0x110b4dba8>"
      ]
     },
     "metadata": {},
     "output_type": "display_data"
    }
   ],
   "source": [
    "plt.hist(features.order_number,bins=101)\n",
    "plt.show"
   ]
  },
  {
   "cell_type": "code",
   "execution_count": 11,
   "metadata": {
    "collapsed": false
   },
   "outputs": [
    {
     "data": {
      "text/plain": [
       "<function matplotlib.pyplot.show>"
      ]
     },
     "execution_count": 11,
     "metadata": {},
     "output_type": "execute_result"
    },
    {
     "data": {
      "image/png": "[encoded data removed]",
      "text/plain": [
       "<matplotlib.figure.Figure at 0x116272128>"
      ]
     },
     "metadata": {},
     "output_type": "display_data"
    }
   ],
   "source": [
    "plt.hist(features.days_since_prior_order,bins=31)\n",
    "plt.show"
   ]
  },
  {
   "cell_type": "markdown",
   "metadata": {},
   "source": [
    "shuffle and split data"
   ]
  },
  {
   "cell_type": "markdown",
   "metadata": {},
   "source": [
    "design performance metric"
   ]
  },
  {
   "cell_type": "markdown",
   "metadata": {},
   "source": [
    "One Hot Encode categoricals\n",
    "\n",
    "This run excludes users as a variable, however that would be crucial if I wanted user specific recommendations"
   ]
  },
  {
   "cell_type": "code",
   "execution_count": 12,
   "metadata": {
    "collapsed": false
   },
   "outputs": [
    {
     "name": "stdout",
     "output_type": "stream",
     "text": [
      "37 total features after one-hot encoding.\n",
      "['order_id', 'product_id', 'add_to_cart_order', 'user_id', 'order_number', 'days_since_prior_order', 'order_dow_0', 'order_dow_1', 'order_dow_2', 'order_dow_3', 'order_dow_4', 'order_dow_5', 'order_dow_6', 'order_hour_of_day_00', 'order_hour_of_day_01', 'order_hour_of_day_02', 'order_hour_of_day_03', 'order_hour_of_day_04', 'order_hour_of_day_05', 'order_hour_of_day_06', 'order_hour_of_day_07', 'order_hour_of_day_08', 'order_hour_of_day_09', 'order_hour_of_day_10', 'order_hour_of_day_11', 'order_hour_of_day_12', 'order_hour_of_day_13', 'order_hour_of_day_14', 'order_hour_of_day_15', 'order_hour_of_day_16', 'order_hour_of_day_17', 'order_hour_of_day_18', 'order_hour_of_day_19', 'order_hour_of_day_20', 'order_hour_of_day_21', 'order_hour_of_day_22', 'order_hour_of_day_23']\n"
     ]
    }
   ],
   "source": [
    "features = pd.get_dummies(features)\n",
    "\n",
    "# Print the number of features after one-hot encoding\n",
    "encoded = list(features.columns)\n",
    "print (\"{} total features after one-hot encoding.\".format(len(encoded)))\n",
    "print (encoded)"
   ]
  },
  {
   "cell_type": "code",
   "execution_count": 13,
   "metadata": {
    "collapsed": false
   },
   "outputs": [
    {
     "data": {
      "text/plain": [
       "206209"
      ]
     },
     "execution_count": 13,
     "metadata": {},
     "output_type": "execute_result"
    }
   ],
   "source": [
    "max(features.user_id)"
   ]
  },
  {
   "cell_type": "code",
   "execution_count": 14,
   "metadata": {
    "collapsed": false
   },
   "outputs": [
    {
     "name": "stdout",
     "output_type": "stream",
     "text": [
      "Training set has 24285136 samples.\n",
      "Testing set has 6071285 samples.\n"
     ]
    }
   ],
   "source": [
    "from sklearn.model_selection import train_test_split #sklearn 0.18.1 and up\n",
    "# Split the 'features' and 'income' data into training and testing sets\n",
    "X_train, X_test, y_train, y_test = train_test_split(features, label, test_size = 0.2, random_state = 0)\n",
    "\n",
    "# Show the results of the split\n",
    "print (\"Training set has {} samples.\".format(X_train.shape[0]))\n",
    "print (\"Testing set has {} samples.\".format(X_test.shape[0]))"
   ]
  },
  {
   "cell_type": "code",
   "execution_count": 15,
   "metadata": {
    "collapsed": false
   },
   "outputs": [],
   "source": [
    "from sklearn.metrics import fbeta_score, accuracy_score\n",
    "import time\n",
    "def train_predict(learner, sample_size, X_train, y_train, X_test, y_test): \n",
    "    '''\n",
    "    inputs:\n",
    "       - learner: the learning algorithm to be trained and predicted on\n",
    "       - sample_size: the size of samples (number) to be drawn from training set\n",
    "       - X_train: features training set\n",
    "       - y_train: income training set\n",
    "       - X_test: features testing set\n",
    "       - y_test: income testing set\n",
    "    '''\n",
    "    \n",
    "    results = {}\n",
    "    \n",
    "    # TODO: Fit the learner to the training data using slicing with 'sample_size'\n",
    "#     start = time() # Get start time\n",
    "    learner = clf.fit(X_train.sample(n=sample_size,random_state=1),y_train.sample(n=sample_size,random_state=1)) #df.sample(frac=percent) maybe too?\n",
    "#     end = time() # Get end time\n",
    "    \n",
    "    # TODO: Calculate the training time\n",
    "#     results['train_time'] = end-start\n",
    "        \n",
    "    # TODO: Get the predictions on the test set,\n",
    "    #       then get predictions on the first 300 training samples\n",
    "#     start = time() # Get start time\n",
    "    predictions_test = clf.predict(X_test)\n",
    "    predictions_train = clf.predict(X_train[:300])\n",
    "#     end = time() # Get end time\n",
    "    \n",
    "    # TODO: Calculate the total prediction time\n",
    "#     results['pred_time'] = end-start\n",
    "            \n",
    "    # TODO: Compute accuracy on the first 300 training samples\n",
    "    results['acc_train'] = accuracy_score(y_train[:300],predictions_train)\n",
    "        \n",
    "    # TODO: Compute accuracy on test set\n",
    "    results['acc_test'] = accuracy_score(y_test,predictions_test)\n",
    "    \n",
    "    # TODO: Compute F-score on the the first 300 training samples\n",
    "#     results['f_train'] = fbeta_score(y_train[:300],predictions_train,beta=.5)\n",
    "        \n",
    "    # TODO: Compute F-score on the test set\n",
    "#     results['f_test'] = fbeta_score(y_test,predictions_test,beta=.5)\n",
    "       \n",
    "    # Success\n",
    "    print (\"{} trained on {} samples.\".format(learner.__class__.__name__, sample_size))\n",
    "        \n",
    "    # Return the results\n",
    "    return results"
   ]
  },
  {
   "cell_type": "code",
   "execution_count": 18,
   "metadata": {
    "collapsed": false
   },
   "outputs": [
    {
     "name": "stdout",
     "output_type": "stream",
     "text": [
      "AdaBoostClassifier trained on 242851 samples.\n"
     ]
    },
    {
     "data": {
      "text/plain": [
       "{'acc_test': 0.69687949091502044, 'acc_train': 0.73333333333333328}"
      ]
     },
     "execution_count": 18,
     "metadata": {},
     "output_type": "execute_result"
    }
   ],
   "source": [
    "\n",
    "from sklearn.tree import DecisionTreeClassifier\n",
    "from sklearn.ensemble import AdaBoostClassifier\n",
    "import time\n",
    "# Initialize\n",
    "clf = AdaBoostClassifier(random_state=2)\n",
    "# clf = DecisionTreeClassifier(random_state=2)\n",
    "\n",
    "# TODO: Calculate the number of samples for 1%, 10%, and 100% of the training data\n",
    "samples_1 = len(y_train.sample(frac=.01))\n",
    "samples_10 = len(y_train.sample(frac=.1))\n",
    "samples_100 = len(y_train.sample(frac=1))\n",
    "\n",
    "# Collect results on the learners\n",
    "results = {}\n",
    "\n",
    "# clf_name = DecisionTreeClassifier(random_state=2)\n",
    "train_predict(clf, samples_1, X_train, y_train, X_test, y_test)\n",
    "\n",
    "# Run metrics visualization for the three supervised learning models chosen\n",
    "# vs.evaluate(results, accuracy, fscore)"
   ]
  },
  {
   "cell_type": "code",
   "execution_count": null,
   "metadata": {
    "collapsed": false
   },
   "outputs": [],
   "source": [
    "# TODO: Import 'GridSearchCV', 'make_scorer', and any other necessary libraries\n",
    "##resubmit - initialized random state and passed in fbeta scorer into GridSearchCV. Also probed lower number for max depth.\n",
    "from sklearn.model_selection import GridSearchCV\n",
    "from sklearn.metrics import make_scorer\n",
    "# TODO: Initialize the classifier\n",
    "clf = AdaBoostClassifier(random_state=2)\n",
    "\n",
    "# TODO: Create the parameters list you wish to tune\n",
    "parameters = {'base_estimator__max_depth':(2,6,10,20,None),\n",
    "              'base_estimator__min_samples_split':(2,50),\n",
    "              'learning_rate':(.01,.1,1),\n",
    "              'n_estimators':(25,50)}\n",
    "\n",
    "\n",
    "sample_size = len(y_train.sample(frac=.001))\n",
    "\n",
    "base = DecisionTreeClassifier(random_state = 2)\n",
    "\n",
    "clf = AdaBoostClassifier(base_estimator = base)\n",
    "\n",
    "# run grid search\n",
    "\n",
    "# TODO: Make an fbeta_score scoring object\n",
    "# scorer = make_scorer(fbeta_score, beta=.5)\n",
    "\n",
    "# TODO: Perform grid search on the classifier using 'scorer' as the scoring method\n",
    "grid_obj = GridSearchCV(clf,param_grid=parameters,n_jobs=-1)\n",
    "\n",
    "# TODO: Fit the grid search object to the training data and find the optimal parameters\n",
    "grid_fit = grid_obj.fit(X_train.sample(n=sample_size,random_state=1),y_train.sample(n=sample_size,random_state=1))\n",
    "\n",
    "# Get the estimator\n",
    "best_clf = grid_fit.best_estimator_\n",
    "\n",
    "# Make predictions using the unoptimized and model\n",
    "predictions = (clf.fit(X_train, y_train)).predict(X_test)\n",
    "best_predictions = best_clf.predict(X_test)\n",
    "# Report the before-and-afterscores\n",
    "print (\"Unoptimized model\\n------\")\n",
    "print (\"Accuracy score on testing data: {:.4f}\".format(accuracy_score(y_test, predictions)))\n",
    "# print (\"F-score on testing data: {:.4f}\".format(fbeta_score(y_test, predictions, beta = 0.5)))\n",
    "print (\"\\nOptimized Model\\n------\")\n",
    "print (\"Final accuracy score on the testing data: {:.4f}\".format(accuracy_score(y_test, best_predictions)))\n",
    "# print (\"Final F-score on the testing data: {:.4f}\".format(fbeta_score(y_test, best_predictions, beta = 0.5)))"
   ]
  },
  {
   "cell_type": "code",
   "execution_count": null,
   "metadata": {
    "collapsed": true
   },
   "outputs": [],
   "source": []
  }
 ],
 "metadata": {
  "kernelspec": {
   "display_name": "Python 3",
   "language": "python",
   "name": "python3"
  },
  "language_info": {
   "codemirror_mode": {
    "name": "ipython",
    "version": 3
   },
   "file_extension": ".py",
   "mimetype": "text/x-python",
   "name": "python",
   "nbconvert_exporter": "python",
   "pygments_lexer": "ipython3",
   "version": "3.6.0"
  }
 },
 "nbformat": 4,
 "nbformat_minor": 2
}
